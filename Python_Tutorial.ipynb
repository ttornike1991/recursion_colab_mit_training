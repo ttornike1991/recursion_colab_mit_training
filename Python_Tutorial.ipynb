{
  "nbformat": 4,
  "nbformat_minor": 0,
  "metadata": {
    "colab": {
      "provenance": [],
      "include_colab_link": true
    },
    "kernelspec": {
      "name": "python3",
      "display_name": "Python 3"
    },
    "language_info": {
      "name": "python"
    }
  },
  "cells": [
    {
      "cell_type": "markdown",
      "metadata": {
        "id": "view-in-github",
        "colab_type": "text"
      },
      "source": [
        "<a href=\"https://colab.research.google.com/github/ttornike1991/recursion_colab_mit_training/blob/main/Python_Tutorial.ipynb\" target=\"_parent\"><img src=\"https://colab.research.google.com/assets/colab-badge.svg\" alt=\"Open In Colab\"/></a>"
      ]
    },
    {
      "cell_type": "markdown",
      "source": [
        "# Python Tutorial"
      ],
      "metadata": {
        "id": "Y-1bSdcsCgLg"
      }
    },
    {
      "cell_type": "markdown",
      "source": [
        "#### General Structure of Recursive Functions\n",
        "> A **recursive** function is a function that calls itself\n",
        "> The first call (called by you, the programmer) takes in the full input. <br> Each subsequent call (called within the function) must take in a smaller input for the program to eventually terminate. <br> The last input is called the **base case** and signals the program to terminate. You must always specify the base case (or else the program won't know when to end!)\n",
        "\n",
        "```\n",
        "def recursive_function(...)\n",
        "  if base_condition(...): return base_case(...)\n",
        "  ...\n",
        "  return recursive_function(...)\n",
        "```"
      ],
      "metadata": {
        "id": "M4frZJIV2_lf"
      }
    },
    {
      "cell_type": "markdown",
      "source": [
        "#### Imports"
      ],
      "metadata": {
        "id": "dsQpam0jMoQN"
      }
    },
    {
      "cell_type": "code",
      "source": [
        "import numpy as np"
      ],
      "metadata": {
        "id": "ZG44XioYMppV"
      },
      "execution_count": null,
      "outputs": []
    },
    {
      "cell_type": "markdown",
      "source": [
        "#### Factorial - Worked Example"
      ],
      "metadata": {
        "id": "byLyE9tf_Ovm"
      }
    },
    {
      "cell_type": "code",
      "execution_count": null,
      "metadata": {
        "id": "4qJqgviHl4dp"
      },
      "outputs": [],
      "source": [
        "'''\n",
        "Computes the factorial of a number n\n",
        "Mathematically: n! = n * (n - 1) * (n - 2) * (n - 3) * ... * 1\n",
        "The first call (by you) takes in the full input: n.\n",
        "Each subsequent call (by the program) takes in a smaller input: n - 1, n - 2, n - 3, etc ...\n",
        "The smallest input, or the base case, signals the program to terminate: 1.\n",
        "\n",
        "Inputs\n",
        "  :n: <int> a number to compute the factorial of, must be >= 0\n",
        "\n",
        "Outputs\n",
        "  :returns: <int> an integer result equal to n!\n",
        "  :throws: ValueError if n is a float or < 0\n",
        "'''\n",
        "def factorial(n):\n",
        "  # you must always specify the answer to the base case\n",
        "  if n == 1: return 1\n",
        "  # if not the base case, then perform recursive step (the function calls itself with a smaller input)\n",
        "  return (n * factorial(n - 1))"
      ]
    },
    {
      "cell_type": "code",
      "source": [
        "factorial(4)"
      ],
      "metadata": {
        "id": "JF8rsmhJ8ObO"
      },
      "execution_count": null,
      "outputs": []
    },
    {
      "cell_type": "markdown",
      "source": [
        "#### Fibonacci"
      ],
      "metadata": {
        "id": "nGLq5NZS_Qrc"
      }
    },
    {
      "cell_type": "code",
      "source": [
        "'''\n",
        "Compute and return the nth number of the fibonacci sequence\n",
        "In a fibonacci sequence, each number in the sequence is the sum of the two numbers that precede it.\n",
        "Example: If n = 7, then the sequence is 0, 1, 1, 2, 3, 5, 8, so the output should be 8.\n",
        "\n",
        "Inputs\n",
        "  :n: <int> the index of the fibonacci number to compute, must be >= 0\n",
        "\n",
        "Outputs\n",
        "  :returns: <int> The nth fibonacci number\n",
        "  :throws: ValueError if n is a float or < 0\n",
        "'''\n",
        "def fibonacci(n):\n",
        "  raise NotImplementedError"
      ],
      "metadata": {
        "id": "oGohWMBb5SDQ"
      },
      "execution_count": null,
      "outputs": []
    },
    {
      "cell_type": "markdown",
      "source": [
        "#### Matrix Multiplication"
      ],
      "metadata": {
        "id": "difLKnPtBIhZ"
      }
    },
    {
      "cell_type": "code",
      "source": [
        "'''\n",
        "Computes the matrix multiplication of two matricies\n",
        "The matrix product (cross product) of two matriceis\n",
        "You may not use numpy's matrix multiplication function!\n",
        "\n",
        "Inputs\n",
        "  :A: <np.ndarray> of size n x m\n",
        "  :B: <np.ndarray> of size m x l\n",
        "\n",
        "Outputs\n",
        "  :returns: <np.ndarray> A matrix, C, of size n x l such that C[i][j] = A[i]B[j] (dot product)\n",
        "  :throws: ValueError if the number of columns of A do not match those of B\n",
        "'''\n",
        "def matrix_mult(A, B):\n",
        "  raise NotImplementedError"
      ],
      "metadata": {
        "id": "B-bhUcd9BOa_"
      },
      "execution_count": null,
      "outputs": []
    },
    {
      "cell_type": "markdown",
      "source": [
        "#### Challenge - skipping timer\n",
        "\n"
      ],
      "metadata": {
        "id": "RyQSY5e4_SAC"
      }
    },
    {
      "cell_type": "code",
      "source": [
        "'''\n",
        "Given the number of seconds, t (an integer), print a countdown of numbers that skips by n (an integer).\n",
        "Example: skipping_timer(10, 2) should print out 10, 8, 6, 4, 2, 0.\n",
        "The last number printed should be just before the timer goes negative (if it does).\n",
        "Then return the last number.\n",
        "\n",
        "Inputs\n",
        "  :t: <int> number of seconds to countdown\n",
        "  :n: <int> skip rate\n",
        "\n",
        "Outputs\n",
        "  :returns: <int> the smallest positive integer reachable starting at t and counting down by n\n",
        "'''\n",
        "def skipping_timer(t, n):\n",
        "  raise NotImplementedError"
      ],
      "metadata": {
        "id": "z7IqOah64wYF"
      },
      "execution_count": null,
      "outputs": []
    },
    {
      "cell_type": "markdown",
      "source": [
        "#### Tests"
      ],
      "metadata": {
        "id": "_WSYzBEF_CXO"
      }
    },
    {
      "cell_type": "code",
      "source": [
        "''' Tests the functions above '''\n",
        "def test():\n",
        "  print(\"---- Testing ----\")\n",
        "  print(\"### matrix_mult\")\n",
        "  matrix_mult_tests = [\n",
        "      (\n",
        "          np.array([[1, 0, 0], [0, 1, 0], [0, 0, 1]], dtype=\"float32\"), \n",
        "          np.array([[1, 2, 3], [4, 5, 6], [7, 8, 9]], dtype=\"float32\"), \n",
        "          np.array([[1, 2, 3], [4, 5, 6], [7, 8, 9]], dtype=\"float32\")),\n",
        "      (\n",
        "          np.array([[1, 1], [0, 1], [1, 0]], dtype=\"float32\"), \n",
        "          np.array([[1, 2, 3], [4, 5, 6]], dtype=\"float32\"), \n",
        "          np.array([[5, 7, 9], [4, 5, 6], [1, 2, 3]], dtype=\"float32\")),\n",
        "       (\n",
        "          np.array([[1]], dtype=\"float32\"), \n",
        "          np.array([[2]], dtype=\"float32\"), \n",
        "          np.array([[2]], dtype=\"float32\"),\n",
        "       )\n",
        "  ]\n",
        "\n",
        "  for A, B, expected in matrix_mult_tests:\n",
        "    result = matrix_mult(A, B)\n",
        "    n, l = expected.shape\n",
        "    stop = False\n",
        "    for i in range(n):\n",
        "      for j in range(l):\n",
        "        if result[i, j] != expected[i, j]: \n",
        "          print(f\"-----------------\\nExpected\\n{A}\\nx\\n{B}\\n=\\n{expected}\\nBut got\\n{result}\\n-----------------\")\n",
        "          stop = True\n",
        "        if stop: break\n",
        "      if stop: break\n",
        "    if not stop: print(\"OK\")\n",
        "\n",
        "  print(\"### skipping_timer\")\n",
        "  print(\"Testing skipping_timer ...\")\n",
        "  skipping_timer_tests = [(7, 8, 7), (10, 2, 0), (125, 14, 13)]\n",
        "  for t, n, expected in skipping_timer_tests:\n",
        "    result = skipping_timer(t, n)\n",
        "    if result != expected: \n",
        "      print(f\"\\nExpected\\n{expected}\\nBut got\\n{result}\")\n",
        "  else: print(\"OK\")\n",
        "  \n",
        "  print(\"### fibonacci\")\n",
        "  fibonacci_tests = [(1, 0), (7, 8), (13, 144)]\n",
        "  for n, expected in fibonacci_tests:\n",
        "    result = fibonacci(n)\n",
        "    if result != expected: \n",
        "      print(f\"-----------------\\nExpected\\n{expected}\\nBut got\\n{result}\\n-----------------\")\n",
        "      break\n",
        "  else: print(\"OK\")\n",
        "  \n",
        "  print(\"---- Done ----\")\n",
        "test()"
      ],
      "metadata": {
        "id": "ysdjAX2J_B3i"
      },
      "execution_count": null,
      "outputs": []
    }
  ]
}